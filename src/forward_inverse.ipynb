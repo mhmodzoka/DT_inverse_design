{
 "metadata": {
  "language_info": {
   "codemirror_mode": {
    "name": "ipython",
    "version": 3
   },
   "file_extension": ".py",
   "mimetype": "text/x-python",
   "name": "python",
   "nbconvert_exporter": "python",
   "pygments_lexer": "ipython3",
   "version": 3
  },
  "orig_nbformat": 2
 },
 "nbformat": 4,
 "nbformat_minor": 2,
 "cells": [
  {
   "source": [
    "This notebook demonstrate solving forward and inverse problem using tree-based machine learning models, applied to spectral emissivity of particles."
   ],
   "cell_type": "markdown",
   "metadata": {}
  },
  {
   "source": [
    "step #0: Importing"
   ],
   "cell_type": "markdown",
   "metadata": {}
  },
  {
   "cell_type": "code",
   "execution_count": null,
   "metadata": {},
   "outputs": [],
   "source": [
    "# misc\n",
    "import json\n",
    "from IPython.display import Image\n",
    "from sklearn.externals.six import StringIO\n",
    "import pickle\n",
    "import matplotlib.pyplot as plt\n",
    "from sklearn.tree import export_graphviz\n",
    "from forward_utils import load_spectrum_param_data_mat, calc_RMSE_MAE_MSE_Erel, z_RF_DT_DTGEN_error_folds, spectra_prediction_corrector, feature_importance_by_material, get_iloc_for_test_on_edges_of_column, error_integ_by_spectrum_integ, plt2matlab,get_all_children, get_confidence_interval_for_random_forest, gen_data_P1_P2_P3_Elzouka\n",
    "import warnings\n",
    "import joblib\n",
    "import sys\n",
    "import os\n",
    "from time import strftime, time\n",
    "from math import pi\n",
    "\n",
    "# data processing\n",
    "import numpy as np\n",
    "import pandas as pd\n",
    "import scipy\n",
    "from scipy.io import loadmat\n",
    "\n",
    "# ML tools, sklearn\n",
    "from sklearn.ensemble import RandomForestRegressor\n",
    "from sklearn.tree import DecisionTreeRegressor\n",
    "from sklearn.model_selection import train_test_split\n",
    "from sklearn.inspection import permutation_importance\n",
    "\n",
    "# to ignore warnings displayed in notebook\n",
    "warnings.filterwarnings('ignore')\n"
   ]
  },
  {
   "cell_type": "code",
   "execution_count": null,
   "metadata": {},
   "outputs": [],
   "source": []
  }
 ]
}